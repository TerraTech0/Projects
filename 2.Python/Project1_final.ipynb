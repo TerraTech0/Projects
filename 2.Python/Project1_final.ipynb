{
  "cells": [
    {
      "cell_type": "markdown",
      "source": [
        "<p align = \"center\">\n",
        "<img src=\"https://academy.sdaia.gov.sa/assets/images/academy-logo.png\" align = \"center\" width=\"400\">\n",
        "</p>\n",
        "\n",
        "<p align = \"center\">\n",
        "<img src=\"https://upload.wikimedia.org/wikipedia/ar/9/96/%D8%B4%D8%B9%D8%A7%D8%B1_%D8%A3%D9%83%D8%A7%D8%AF%D9%8A%D9%85%D9%8A%D8%A9_%D8%B7%D9%88%D9%8A%D9%82.png\" align = \"center\" width=\"400\">\n",
        "</p>\n",
        "<div> </div>\n",
        "<div>\n",
        "<p><br><br></p>\n",
        "<h1 align=\"center\"><b>GROUP NO.7</b></h1>\n",
        "<h3 align=\"center\">Abdulrahman Ghazwani</h3>\n",
        "<h3 align=\"center\">Manar Khamees</h3>\n",
        "<h3 align=\"center\">Mussab Albargi</h3>\n",
        "</div>"
      ],
      "metadata": {
        "id": "Y1sGRa3zXC9x"
      },
      "id": "Y1sGRa3zXC9x"
    },
    {
      "cell_type": "markdown",
      "source": [
        "Project 1\n",
        "### Q1: Pair Peers\n",
        "\n",
        "**Problem:** given a list of tuples representing `(name, age)` of each person.\n",
        "Pair people such that the age difference is minimized.\n",
        "\n",
        "```\n",
        "# Test Case:\n",
        "input: [(\"Ahmad\", 10), (\"Belal\", 30), (\"Camal\", 29), (\"Dalal\", 11)]\n",
        "output: [(\"Ahmad\", \"Dalal\"), (\"Camal\", \"Belal\")]\n",
        "```"
      ],
      "metadata": {
        "id": "r7DoqGXSWYE1"
      },
      "id": "r7DoqGXSWYE1"
    },
    {
      "cell_type": "code",
      "execution_count": 1,
      "id": "d4a50d73-ce18-422a-939d-56441c4f6928",
      "metadata": {
        "tags": [],
        "colab": {
          "base_uri": "https://localhost:8080/"
        },
        "id": "d4a50d73-ce18-422a-939d-56441c4f6928",
        "outputId": "eb74ff63-b952-49a2-aaa5-bde1da482e49"
      },
      "outputs": [
        {
          "output_type": "stream",
          "name": "stdout",
          "text": [
            "[('Dalal', 23), ('Belal', 25), ('Camal', 25), ('Ahmad', 26)]\n",
            "[('Dalal', 'Belal'), ('Camal', 'Ahmad')]\n"
          ]
        }
      ],
      "source": [
        "# Project 1\n",
        "# Answer for questoin 1\n",
        "tuples =[(\"Ahmad\", 26), (\"Belal\", 25), (\"Camal\", 25), (\"Dalal\", 23)]\n",
        "tuples.sort(key= lambda x: x[1])\n",
        "print(tuples)\n",
        "\n",
        "result = []\n",
        "for i in range(0, len(tuples), 2):\n",
        "    result.append((tuples[i][0],tuples[i+1][0]))\n",
        "print(result)\n"
      ]
    },
    {
      "cell_type": "markdown",
      "source": [
        " Project 1\n",
        "\n",
        "### Q2: Distribute\n",
        "\n",
        "**Problem:** distribute students to groups.\n",
        "\n",
        "```\n",
        "# Test Case:\n",
        "inputs:\n",
        "    students = [\"Ahmad\", \"Belal\", \"Camal\", \"Dalal\", \"Emad\", \"Firdaus\"]\n",
        "    num_groups = 3\n",
        "possible output: [(\"Ahmad\", \"Belal\"), (\"Camal\", \"Emad\"), (\"Dalal\", \"Firdaus\")]\n",
        "```"
      ],
      "metadata": {
        "id": "g8iKGkZYW353"
      },
      "id": "g8iKGkZYW353"
    },
    {
      "cell_type": "code",
      "execution_count": 3,
      "id": "c0cca1c7-e3b1-493e-ab13-044e2c6ca4ae",
      "metadata": {
        "tags": [],
        "colab": {
          "base_uri": "https://localhost:8080/"
        },
        "id": "c0cca1c7-e3b1-493e-ab13-044e2c6ca4ae",
        "outputId": "8d11b49d-5d79-4328-a2df-04cf76e46e00"
      },
      "outputs": [
        {
          "output_type": "stream",
          "name": "stdout",
          "text": [
            "[('Emad', 'Ahmad'), ('Camal', 'Firdaus'), ('Belal', 'Dalal')]\n"
          ]
        }
      ],
      "source": [
        "# Project 1\n",
        "# The answer for question 2\n",
        "\n",
        "import random\n",
        "\n",
        "students = [\"Ahmad\", \"Belal\", \"Camal\", \"Dalal\", \"Emad\", \"Firdaus\"]\n",
        "num_groups = 3\n",
        "random.shuffle(students)\n",
        "random = random.sample(students, len(students))\n",
        "group = [(students[i], students[i+1]) for i in range(0, len(students), 2)]\n",
        "\n",
        "print(group)"
      ]
    }
  ],
  "metadata": {
    "kernelspec": {
      "display_name": "Python 3 (ipykernel)",
      "language": "python",
      "name": "python3"
    },
    "language_info": {
      "codemirror_mode": {
        "name": "ipython",
        "version": 3
      },
      "file_extension": ".py",
      "mimetype": "text/x-python",
      "name": "python",
      "nbconvert_exporter": "python",
      "pygments_lexer": "ipython3",
      "version": "3.11.3"
    },
    "colab": {
      "provenance": []
    }
  },
  "nbformat": 4,
  "nbformat_minor": 5
}